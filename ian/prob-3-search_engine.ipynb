{
 "cells": [
  {
   "cell_type": "code",
   "execution_count": 1,
   "metadata": {
    "collapsed": false
   },
   "outputs": [],
   "source": [
    "import requests\n",
    "from bs4 import BeautifulSoup\n",
    "from urllib.parse import quote_plus"
   ]
  },
  {
   "cell_type": "code",
   "execution_count": 2,
   "metadata": {
    "collapsed": true
   },
   "outputs": [],
   "source": [
    "def get(engine, url, query):\n",
    "    quoted_query = quote_plus(query)\n",
    "    underscored_query = query.replace(' ', '_')\n",
    "    full_url = '{}?q={}'.format(url, quoted_query)\n",
    "    filename = '{}-{}.html'.format(engine, underscored_query)\n",
    "    r = requests.get(full_url)\n",
    "    status = r.status_code\n",
    "    if status is 200:\n",
    "        soup = BeautifulSoup(r.text, 'html.parser')\n",
    "        with open(filename, 'w') as f:\n",
    "            f.write(soup.prettify())\n",
    "        print('Saved search page to file: {}'.format(filename))\n",
    "        return (soup, filename)\n",
    "    else:\n",
    "        print('Error code: {}; URL: {}'.format(status, full_url))"
   ]
  },
  {
   "cell_type": "code",
   "execution_count": 3,
   "metadata": {
    "collapsed": false
   },
   "outputs": [
    {
     "name": "stdout",
     "output_type": "stream",
     "text": [
      "Saved search page to file: google-trump_clinton.html\n"
     ]
    }
   ],
   "source": [
    "url = 'https://www.google.com/search'\n",
    "engine = 'google'\n",
    "query = 'trump clinton'\n",
    "soup, filename = get(engine, url, query)"
   ]
  },
  {
   "cell_type": "code",
   "execution_count": 4,
   "metadata": {
    "collapsed": false
   },
   "outputs": [],
   "source": [
    "def filter_1(tag):\n",
    "    return (tag.name == 'div'\n",
    "            and tag.parent.name == 'ol'\n",
    "            and tag['class'] == ['g'])"
   ]
  },
  {
   "cell_type": "code",
   "execution_count": 5,
   "metadata": {
    "collapsed": false
   },
   "outputs": [],
   "source": [
    "def filter_2(tag):\n",
    "    bad_text = 'News for {}'.format(query)\n",
    "    return (tag.name == 'a'\n",
    "            and tag.parent.name == 'h3'\n",
    "            and tag.text != bad_text)"
   ]
  },
  {
   "cell_type": "code",
   "execution_count": 6,
   "metadata": {
    "collapsed": true
   },
   "outputs": [],
   "source": [
    "def strip_href(href):\n",
    "    result = href.strip('/url?q=')\n",
    "    return result.split('&')[0]"
   ]
  },
  {
   "cell_type": "code",
   "execution_count": 7,
   "metadata": {
    "collapsed": false
   },
   "outputs": [
    {
     "name": "stdout",
     "output_type": "stream",
     "text": [
      "Results\n",
      "Engine: google\n",
      "Query: trump clinton\n",
      "\n",
      "For comparison, see the downloaded html page:\n",
      "google-trump_clinton.html\n",
      "\n",
      "1 http://projects.fivethirtyeight.com/clinton-trump-vote-maps-2016/\n",
      "2 http://www.wsj.com/articles/donald-trumps-new-attack-strategy-keep-clinton-voters-home-1476221895\n",
      "3 https://www.hillaryclinton.com/literallytrump/\n",
      "4 https://www.yahoo.com/news/latest-trump-serious-jailing-clinton-115529857--election.html\n",
      "5 http://www.cnn.com/2016/10/12/politics/hillary-clinton-utah-poll/\n",
      "6 http://www.realclearpolitics.com/epolls/2016/president/us/general_election_trump_vs_clinton-5491.html\n",
      "7 http://abcnews.go.com/Politics/donald-trump-slams-clinton-wikileaks-emails/story%3Fid%3D42743927\n",
      "8 http://www.latimes.com/nation/politics/trailguide/la-na-trailguide-updates-mike-pence-halts-trump-supporter-for-1476223249-htmlstory.html\n",
      "9 http://www.politico.com/story/2016/10/trump-ad-clinton-corruption-229662\n"
     ]
    }
   ],
   "source": [
    "results = [strip_href(tag.h3.a['href'])\n",
    "           for tag in soup.find_all(filter_1)\n",
    "           if tag.find_all(filter_2)]\n",
    "\n",
    "print('Results\\nEngine: {}\\nQuery: {}\\n'.format(engine, query))\n",
    "print('For comparison, see the downloaded html page:\\n{}\\n'.format(filename))\n",
    "for i, r in enumerate(results):\n",
    "    print((i + 1), r)"
   ]
  }
 ],
 "metadata": {
  "kernelspec": {
   "display_name": "Python 3",
   "language": "python",
   "name": "python3"
  },
  "language_info": {
   "codemirror_mode": {
    "name": "ipython",
    "version": 3
   },
   "file_extension": ".py",
   "mimetype": "text/x-python",
   "name": "python",
   "nbconvert_exporter": "python",
   "pygments_lexer": "ipython3",
   "version": "3.5.1+"
  }
 },
 "nbformat": 4,
 "nbformat_minor": 1
}
