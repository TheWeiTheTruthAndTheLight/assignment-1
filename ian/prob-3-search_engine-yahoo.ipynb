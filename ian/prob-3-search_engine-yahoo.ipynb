{
 "cells": [
  {
   "cell_type": "code",
   "execution_count": 213,
   "metadata": {
    "collapsed": false
   },
   "outputs": [],
   "source": [
    "import requests\n",
    "import functools\n",
    "import re\n",
    "from bs4 import BeautifulSoup\n",
    "from urllib.parse import quote_plus"
   ]
  },
  {
   "cell_type": "code",
   "execution_count": 222,
   "metadata": {
    "collapsed": true
   },
   "outputs": [],
   "source": [
    "def get(url, query):\n",
    "    quoted_query = quote_plus(query)\n",
    "    underscored_query = query.replace(' ', '_')\n",
    "    full_url = '{}?q={}'.format(url, quoted_query)\n",
    "    r = requests.get(full_url)\n",
    "    status = r.status_code\n",
    "    if status is 200:\n",
    "        soup = BeautifulSoup(r.text, 'html.parser')\n",
    "        return soup\n",
    "    else:\n",
    "        print('Error code: {}; URL: {}'.format(status, full_url))"
   ]
  },
  {
   "cell_type": "code",
   "execution_count": 239,
   "metadata": {
    "collapsed": true
   },
   "outputs": [],
   "source": [
    "def yahoo(query):\n",
    "    matchURLsThatArentYahoosIP = re.compile(\"(?=^http.)(?!^http:\\/\\/98)\")\n",
    "    selectSearchCenterMiddle = lambda soup:soup.select(\"ol.searchCenterMiddle\")[0]\n",
    "    selectOnlyValidLinks = lambda soup:soup.select(\"div.wrapstar\")+soup.select(\"div.algo\")\n",
    "    selectValidLinksFromCenterMiddle = lambda soup: selectOnlyValidLinks(selectSearchCenterMiddle(soup))\n",
    "    filterBadURL = lambda link:matchURLsThatArentYahoosIP.search(link)\n",
    "    selectAllLinkTags = lambda div: div.find_all('a', href=True)\n",
    "    selectLinkValue = lambda link: link[\"href\"]\n",
    "    flatten = lambda listOfLists:functools.reduce(list.__add__,listOfLists)\n",
    "    flatmap = lambda fun, lst: flatten(map(fun,lst))\n",
    "    \n",
    "    soup = get('https://search.yahoo.com/search;', query)\n",
    "    \n",
    "    return list(filter(filterBadURL,\n",
    "                map(selectLinkValue,\n",
    "                flatmap(selectAllLinkTags,\n",
    "                        selectValidLinksFromCenterMiddle(soup)))))"
   ]
  },
  {
   "cell_type": "code",
   "execution_count": 240,
   "metadata": {
    "collapsed": false
   },
   "outputs": [
    {
     "data": {
      "text/plain": [
       "['http://www.cnn.com/2016/10/09/politics/presidential-debate-highlights/index.html',\n",
       " 'http://abcnews.go.com/Politics/donald-trump-slams-clinton-wikileaks-emails/story?id=42743927',\n",
       " 'http://www.newsday.com/long-island/politics/trump-clinton-exchange-bitter-words-in-second-presidential-debate-1.12426474',\n",
       " 'http://www.cbsnews.com/news/why-ohio-is-leaving-donald-trump-for-hillary-clinton/',\n",
       " 'http://www.politico.com/magazine/story/2016/09/trump-hillary-clinton-september-11-911-attacks-nyc-214236',\n",
       " 'http://www.foxnews.com/politics/2016/10/09/trump-downplays-lewd-comments-as-locker-room-talk-at-debate.html',\n",
       " 'https://www.washingtonpost.com/politics/trump-remains-defiant-ahead-of-debate-as-surrogates-grapple-with-tape-fallout/2016/10/09/9a95a09a-8e28-11e6-9c85-ac42097b8cc0_story.html',\n",
       " 'http://www.realclearpolitics.com/epolls/2016/president/us/general_election_trump_vs_clinton-5491.html#!',\n",
       " 'http://www.cbsnews.com/news/trump-clinton-is-a-bigot/',\n",
       " 'http://elections.huffingtonpost.com/pollster/2016-general-election-trump-vs-clinton']"
      ]
     },
     "execution_count": 240,
     "metadata": {},
     "output_type": "execute_result"
    }
   ],
   "source": [
    "yahoo(\"trump clinton\")"
   ]
  },
  {
   "cell_type": "code",
   "execution_count": 217,
   "metadata": {
    "collapsed": false
   },
   "outputs": [],
   "source": []
  }
 ],
 "metadata": {
  "anaconda-cloud": {},
  "kernelspec": {
   "display_name": "Python [default]",
   "language": "python",
   "name": "python3"
  },
  "language_info": {
   "codemirror_mode": {
    "name": "ipython",
    "version": 3
   },
   "file_extension": ".py",
   "mimetype": "text/x-python",
   "name": "python",
   "nbconvert_exporter": "python",
   "pygments_lexer": "ipython3",
   "version": "3.5.2"
  }
 },
 "nbformat": 4,
 "nbformat_minor": 1
}
