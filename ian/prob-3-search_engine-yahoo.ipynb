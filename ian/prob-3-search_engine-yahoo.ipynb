{
 "cells": [
  {
   "cell_type": "code",
   "execution_count": 117,
   "metadata": {
    "collapsed": false
   },
   "outputs": [],
   "source": [
    "import requests\n",
    "import functools\n",
    "import re\n",
    "from bs4 import BeautifulSoup\n",
    "from urllib.parse import quote_plus"
   ]
  },
  {
   "cell_type": "code",
   "execution_count": 22,
   "metadata": {
    "collapsed": true
   },
   "outputs": [],
   "source": [
    "def get(engine, url, query):\n",
    "    quoted_query = quote_plus(query)\n",
    "    underscored_query = query.replace(' ', '_')\n",
    "    full_url = '{}?q={}'.format(url, quoted_query)\n",
    "    filename = '{}-{}.html'.format(engine, underscored_query)\n",
    "    r = requests.get(full_url)\n",
    "    status = r.status_code\n",
    "    if status is 200:\n",
    "        soup = BeautifulSoup(r.text, 'html.parser')\n",
    "        with open(filename, 'w') as f:\n",
    "            f.write(soup.prettify())\n",
    "        print('Saved search page to file: {}'.format(filename))\n",
    "        return (soup, filename)\n",
    "    else:\n",
    "        print('Error code: {}; URL: {}'.format(status, full_url))"
   ]
  },
  {
   "cell_type": "code",
   "execution_count": 26,
   "metadata": {
    "collapsed": false
   },
   "outputs": [
    {
     "name": "stdout",
     "output_type": "stream",
     "text": [
      "Saved search page to file: yahoo-trump_clinton.html\n"
     ]
    }
   ],
   "source": [
    "url = 'https://search.yahoo.com/search;'\n",
    "engine = 'yahoo'\n",
    "query = 'trump clinton'\n",
    "soup, filename = get(engine, url, query)"
   ]
  },
  {
   "cell_type": "code",
   "execution_count": 134,
   "metadata": {
    "collapsed": false
   },
   "outputs": [],
   "source": [
    "linkDivs = soup.select(\"ol.searchCenterMiddle\")[0].select(\"div.wrapstar\")+soup.select(\"ol.searchCenterMiddle\")[0].select(\"div.algo\")"
   ]
  },
  {
   "cell_type": "code",
   "execution_count": 206,
   "metadata": {
    "collapsed": false
   },
   "outputs": [
    {
     "name": "stdout",
     "output_type": "stream",
     "text": [
      "http://www.cnn.com/2016/10/09/politics/presidential-debate-highlights/index.html\n",
      "http://abcnews.go.com/Politics/donald-trump-slams-clinton-wikileaks-emails/story?id=42743927\n",
      "http://www.newsday.com/long-island/politics/trump-clinton-exchange-bitter-words-in-second-presidential-debate-1.12426474\n",
      "http://www.cbsnews.com/news/why-ohio-is-leaving-donald-trump-for-hillary-clinton/\n",
      "http://www.foxnews.com/politics/2016/10/09/trump-downplays-lewd-comments-as-locker-room-talk-at-debate.html\n",
      "https://www.washingtonpost.com/politics/trump-remains-defiant-ahead-of-debate-as-surrogates-grapple-with-tape-fallout/2016/10/09/9a95a09a-8e28-11e6-9c85-ac42097b8cc0_story.html\n",
      "https://www.washingtonpost.com/news/the-fix/wp/2016/09/26/the-first-trump-clinton-presidential-debate-transcript-annotated/\n",
      "http://www.realclearpolitics.com/epolls/2016/president/us/general_election_trump_vs_clinton-5491.html#!\n",
      "http://www.cbsnews.com/news/trump-clinton-is-a-bigot/\n",
      "http://98.139.21.31/search/srpcache?q=trump+clinton&ei=UTF-8&u=http://cc.bingj.com/cache.aspx?q=trump+clinton&d=4518960052962586&mkt=en-US&setlang=en-US&w=Ku-UowJoLEMG_F8RUMqsJtlrSOeDmlUo&icp=1&.intl=us&sig=fU4sWh6.PZR9599U0MqJvQ--\n",
      "http://elections.huffingtonpost.com/pollster/2016-general-election-trump-vs-clinton\n",
      "http://98.139.21.31/search/srpcache?q=trump+clinton&ei=UTF-8&u=http://cc.bingj.com/cache.aspx?q=trump+clinton&d=3007081379691&mkt=en-US&setlang=en-US&w=CucpnIo-HkqeNQFC0JOUfaUbKNSOVWOi&icp=1&.intl=us&sig=.ASdVKCTSGlPCAR5ZuorEQ--\n"
     ]
    }
   ],
   "source": [
    "links = map(lambda link: link[\"href\"],functools.reduce(list.__add__,map(lambda div: div.find_all('a', href=True),linkDivs)))\n",
    "regex = re.compile(\"(?=^http.)(?!=^http:\\/\\/98)\")\n",
    "\n",
    "flt = filter(lambda link:regex.search(link), links)\n",
    "for x in flt: print(x)"
   ]
  },
  {
   "cell_type": "code",
   "execution_count": 131,
   "metadata": {
    "collapsed": true
   },
   "outputs": [],
   "source": []
  },
  {
   "cell_type": "code",
   "execution_count": null,
   "metadata": {
    "collapsed": false
   },
   "outputs": [],
   "source": []
  },
  {
   "cell_type": "code",
   "execution_count": null,
   "metadata": {
    "collapsed": false
   },
   "outputs": [],
   "source": []
  },
  {
   "cell_type": "code",
   "execution_count": 25,
   "metadata": {
    "collapsed": false
   },
   "outputs": [
    {
     "name": "stdout",
     "output_type": "stream",
     "text": [
      "Results\n",
      "Engine: yahoo\n",
      "Query: trump clinton\n",
      "\n",
      "For comparison, see the downloaded html page:\n",
      "yahoo-trump_clinton.html\n",
      "\n"
     ]
    }
   ],
   "source": [
    "print('Results\\nEngine: {}\\nQuery: {}\\n'.format(engine, query))\n",
    "print('For comparison, see the downloaded html page:\\n{}\\n'.format(filename))\n",
    "for i, r in enumerate(results):\n",
    "    print((i + 1), r)"
   ]
  }
 ],
 "metadata": {
  "anaconda-cloud": {},
  "kernelspec": {
   "display_name": "Python [default]",
   "language": "python",
   "name": "python3"
  },
  "language_info": {
   "codemirror_mode": {
    "name": "ipython",
    "version": 3
   },
   "file_extension": ".py",
   "mimetype": "text/x-python",
   "name": "python",
   "nbconvert_exporter": "python",
   "pygments_lexer": "ipython3",
   "version": "3.5.2"
  }
 },
 "nbformat": 4,
 "nbformat_minor": 1
}
