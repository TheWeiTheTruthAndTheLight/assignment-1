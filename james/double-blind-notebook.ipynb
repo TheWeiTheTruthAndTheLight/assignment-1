{
 "cells": [
  {
   "cell_type": "code",
   "execution_count": 111,
   "metadata": {
    "collapsed": false
   },
   "outputs": [],
   "source": [
    "import requests\n",
    "from bs4 import BeautifulSoup"
   ]
  },
  {
   "cell_type": "code",
   "execution_count": 30,
   "metadata": {
    "collapsed": false
   },
   "outputs": [
    {
     "name": "stdout",
     "output_type": "stream",
     "text": [
      "200\n",
      "http://www.google.com/search?q=github\n",
      "200\n",
      "http://www.bing.com/search?q=github\n",
      "200\n",
      "http://search.yahoo.com/?q=github\n"
     ]
    }
   ],
   "source": [
    "search_engines = [\"http://google.com/search\", \"http://bing.com/search\", \"http://yahoo.com/search\"]\n",
    "for engine in search_engines:\n",
    "    r = requests.get(engine, params={\"q\": \"github\"})\n",
    "    print (r.status_code)\n",
    "    print (r.url)"
   ]
  },
  {
   "cell_type": "code",
   "execution_count": 118,
   "metadata": {
    "collapsed": true
   },
   "outputs": [
    {
     "data": {
      "text/plain": [
       "'http://thenextweb.com/asia/2016/10/10/turkey-reportedly-blocks-google-drive-dropbox-onedrive-github-stop-email-leaks/'"
      ]
     },
     "execution_count": 118,
     "metadata": {},
     "output_type": "execute_result"
    }
   ],
   "source": [
    "r = requests.get(\"http://google.com/search\", params={\"q\": \"github\"})\n",
    "soup = BeautifulSoup(r.content, \"html.parser\")\n",
    "    \n",
    "links = [link.get(\"href\") for link in soup.find_all(\"a\") if link.get(\"href\").startswith(\"/url\")]\n",
    "z = [link.strip(\"/url?q=\").split(\"&\")[0] for link in links]\n",
    "google_test_link = [x for x in z if \"webcache\" not in x][10]"
   ]
  },
  {
   "cell_type": "code",
   "execution_count": 119,
   "metadata": {
    "collapsed": false
   },
   "outputs": [],
   "source": [
    "r = requests.get(\"http://bing.com/search\", params={\"q\": \"knicks\"})\n",
    "soup = BeautifulSoup(r.content, \"html.parser\")\n",
    "links = [link.get(\"href\") for link in soup.find_all(\"a\")]\n",
    "links = [link for link in links if link is not None]\n",
    "links = [link for link in links if link.startswith(\"http\")]\n",
    "bing_test_link = links[10]"
   ]
  },
  {
   "cell_type": "code",
   "execution_count": 124,
   "metadata": {
    "collapsed": false
   },
   "outputs": [
    {
     "name": "stdout",
     "output_type": "stream",
     "text": [
      "http://thenextweb.com/asia/2016/10/10/turkey-reportedly-blocks-google-drive-dropbox-onedrive-github-stop-email-leaks/\n",
      "http://www.nba.com/knicks/ticket-central\n",
      "True\n"
     ]
    }
   ],
   "source": [
    "print(google_test_link)\n",
    "print(bing_test_link)\n",
    "\n",
    "google_soup = BeautifulSoup(requests.get(google_test_link).content, \"html.parser\")\n",
    "bing_soup = BeautifulSoup(requests.get(bing_test_link).content, \"html.parser\")"
   ]
  },
  {
   "cell_type": "code",
   "execution_count": 139,
   "metadata": {
    "collapsed": false
   },
   "outputs": [
    {
     "data": {
      "text/plain": [
       "\"\\n\\n\\n\\n\\n\\n\\n\\n\\n\\n\\n\\n\\n\\n\\nNews\\nConference\\nMomentum\\nIndex\\nDeals\\n\\n\\n\\nNews\\nConference\\nMomentum\\nIndex\\nDeals\\nContact\\nJobs\\nAdvertise\\nTeam\\nAbout\\n\\n\\n\\nApps\\nGear\\nTech\\nCreative\\nMoney\\nInsights\\nLaunch\\nWorld\\nDistract\\nOffers\\n\\n\\n\\nLaunch\\nDistract\\nWorld\\n\\n\\n\\n\\n\\n\\n\\n\\nHave a cookie\\n\\n\\n\\n                            TNW uses cookies to personalise content and ads to \\n                            make our site easier for you to use. \\n                            We do also share that information with third parties for\\n                            advertising & analytics.\\n                        \\n\\n\\nOK\\n\\n                            or More information\\n\\n\\n\\n\\n\\n\\n\\n\\n\\n\\n\\n\\n\\n\\n\\n\\n\\n\\n\\n\\n\\n\\n\\n\\n\\n\\n\\n\\n\\n\\n\\n\\n\\n\\n\\n\\n\\n \\n\\n\\nSections\\n\\nApps\\nGear\\nTech\\nCreative\\nMoney\\nInsights\\nLaunch\\nWorld\\nDistract\\nOffers\\n\\n\\n\\nAbout TNW\\n\\nAboutTeamAdvertiseJobsContact \\nTNW Sites\\n\\nNewsConferenceMomentumIndexDealsCyberspace Culture \\n\\n\\n\\n\\n\\n\\n\\n\\n\\n\\n\\n\\n\\n\\n\\nTurkey reportedly blocks Google Drive, Dropbox, OneDrive and GitHub to stop email leaks\\n\\n\\n\\n            by Abhimanyu Ghoshal\\n            — \\n                        in Asia\\n\\n\\n\\n\\n\\n\\n\\n        Credit:\\n                    Shutterstock\\n\\n\\n\\n\\n\\n\\n\\n\\n1,294\\nshares\\n\\n\\n\\n\\n\\n\\n\\n\\n\\n\\n\\n\\n\\n\\n\\n\\n\\n\\n \\n\\n\\n\\n \\n\\n\\n\\n\\n\\n\\n\\n\\n\\n\\n\\n\\n\\n\\n\\n\\n\\n\\n\\n\\n\\nBB\\nOff\\n\\n\\n\\n\\n\\n\\n \\nTurkey reportedly blocked cloud storage services including Google Drive, Dropbox and Microsoft’s OneDrive, as well as code hosting service GitHub on Saturday, according to Turkey Blocks.\\nThe government is believed to have done so in a bid to suppress the leak of emails belonging to the Minister of Energy and Natural Resources Berat Albayrak, who is the son-in-law of President Recep Tayyip Erdogan.\\n\\n\\nNew York, meet the world’s tech scene\\n5,000 Tech leaders are coming to NYC this November to learn and do business. This is your chance to join them.\\n\\nCheck it out\\nThe move to block these services, reported by censorship monitoring group Turkey Blocks, is likely a means to stop people from hosting the email dumps on their accounts and making it more widely available.\\nThe 17GB leak, which is believed to span 57,623 emails dating from April 2000 to the end of this September, was released by hacking group Redhack. An order from an Ankara court concerning the investigation of the group pointed to the authenticity of the leak.\\nAccording to The Daily Dot, which received the email dump, the correspondence shows how Erdogan used his position of power to influence the media and prompt the publishing of select information in pro-government newspapers.\\nTurkey Blocks noted that Google Drive had been unblocked on Sunday.\\nThe country has a long history of blocking internet services, with a view to control what citizens can read about its government online. It blocked WikiLeaks in July following a leak of emails from Turkey’s roling political party. In March, it barred Web users from accessing Twitter and Facebook after a car bomb exploded in Ankara.\\nWe’ve contacted Google, Dropbox, Microsoft, GitHub and the government of Turkey to learn more and will update this post if there’s a response. \\n\\nDropbox, Google Drive and Microsoft OneDrive cloud services blocked in Turkey following leaks\\non Turkey Blocks\\n\\n\\n\\nRead next:\\n\\n        Hack a Raspberry Pi to play your theme song when you enter a room    \\n\\n\\n\\n\\n\\n Share on Facebook (555)\\n\\n\\n\\n\\n Share on Twitter (551)\\n\\n\\n\\n\\n\\n\\n\\nAbhimanyu Ghoshal\\n                            is a reporter from Bangalore, IN.\\n                            Happy to hear your thoughts\\n                on abhimanyu@thenextweb.com or\\n                @aghoshal on Twitter.\\n                    \\n\\n\\n\\n            Abhimanyu is an avid gamer, street food gourmet and design connoisseur. Hit him up on Twitter, his site, or via mail: abhimanyu@thenextweb.com.        \\n\\n\\nContact\\n Mail\\n Tweet\\n\\n\\nLocation\\n                    Bangalore, IN                \\n\\nPosts\\n                    2034                \\n\\nPosts / mo.\\n                    39.67                \\n\\n\\xa0\\nAll posts by Abhimanyu >\\n\\n\\n\\n\\n\\n\\nShh. Here's some distraction\\n\\n\\n\\n\\n\\nThe UK's new five pound note has a secret musical trick\\n\\n\\nJuan Buis\\n\\n\\n\\n\\n\\n\\n\\n\\nForget the debate, watch this Trump-Clinton Dirty Dancing duet instead\\n\\n\\nAbhimanyu Ghoshal\\n\\n\\n\\n\\n\\n\\n\\n\\nAfter seeing this, maybe it's better if we don't have 'Grand Theft Auto' in VR\\n\\n\\nBryan Clark\\n\\n\\n\\n\\n\\n\\n\\n\\nAbsent-minded photographer captures expensive gaffe on GoPro\\n\\n\\nBryan Clark\\n\\n\\n\\n\\n\\n\\n\\n\\nHumanoid robot 'Sophia' puts the moves on 60 Minutes correspondent Charlie Rose\\n\\n\\nBryan Clark\\n\\n\\n\\n\\n\\n\\n\\n\\nThese crazy fencing videos beautifully visualize the complex sport\\n\\n\\nJuan Buis\\n\\n\\n\\n\\n\\n\\n\\n\\n\\n\\nComments\\n\\n\\n\\n\\n\\n\\n\\n\\nRecommended\\n\\n\\n\\n\\n\\n\\n\\t\\t\\t\\tYou can get the Lytro Illum camera at its lowest price ever — but only for the next 24 hours\\t\\t\\t\\n\\n\\n\\nTNW Deals\\n\\n\\n\\n\\n\\n\\n\\n\\n\\n\\nMost popular\\n\\n\\n\\n\\n1\\n\\n\\n\\t\\t\\t\\tChrome will finally eat less RAM from this December\\t\\t\\t\\n\\n\\n\\nJuan Buis\\n\\n\\n\\n\\n\\n\\n\\n\\n\\n\\n2\\n\\n\\n\\t\\t\\t\\tTurkey reportedly blocks Google Drive, Dropbox, OneDrive and GitHub to stop email leaks\\t\\t\\t\\n\\n\\n\\nAbhimanyu Ghoshal\\n\\n\\n\\n\\n\\n\\n\\n\\n\\n\\n\\n\\n\\n3\\n\\n\\n\\t\\t\\t\\tFacebook launches Workplace - its attempt at a ‘Slack for Enterprises’\\t\\t\\t\\n\\n\\n\\nAbhimanyu Ghoshal\\n\\n\\n\\n\\n\\n\\n\\n\\n\\n\\n4\\n\\n\\n\\t\\t\\t\\tMicrosoft's revamped Paint app lets you draw in 3D – and it looks awesome\\t\\t\\t\\n\\n\\n\\nMix\\n\\n\\n\\n\\n\\n\\n\\n\\n\\n\\n5\\n\\n\\n\\t\\t\\t\\tHumanoid robot 'Sophia' puts the moves on 60 Minutes correspondent Charlie Rose\\t\\t\\t\\n\\n\\n\\nBryan Clark\\n\\n\\n\\n\\n\\n\\n\\n\\n\\n\\n\\n\\n\\n\\nNever miss out\\nStay tuned with our weekly recap of what’s hot & cool by our CEO Boris.\\n\\n\\n\\nThank\\xa0you!\\n\\n\\n\\n\\n\\n\\n\\n\\nDo it\\n\\n\\n\\n\\n        Join over 260,000 subscribers!\\n    \\n\\n\\nWho's Hiring\\n\\n\\n\\n\\n ABN AMRO \\n\\n\\n\\n\\t\\t\\t\\t\\tReinventing the world of banking\\n\\t\\t\\t\\t\\n\\n\\n\\n\\n\\n\\n Facebook \\n\\n\\n\\n\\t\\t\\t\\t\\tBuild and make an impact\\n\\t\\t\\t\\t\\n\\n\\n\\n\\n\\n\\n Uber \\n\\n\\n\\n\\t\\t\\t\\t\\tWork that moves you\\n\\t\\t\\t\\t\\n\\n\\n\\n\\n\\n\\n Amazon \\n\\n\\n\\n\\t\\t\\t\\t\\tWe are a company of pioneers\\n\\t\\t\\t\\t\\n\\n\\n\\n \\nLatest\\n\\n\\n\\n\\n\\n\\n\\t\\t\\t\\t'Capturing Everest' could be our first VR masterpiece\\t\\t\\t\\n\\n\\n\\nBryan Clark\\n\\n\\n\\n\\n\\n\\n\\n\\n\\n\\n\\n\\n\\t\\t\\t\\tNFL bans teams from sharing GIFs and videos during games\\t\\t\\t\\n\\n\\n\\nNapier Lopez\\n\\n\\n\\n\\n\\n\\n\\n\\n\\n\\n\\n\\n\\t\\t\\t\\tThis Adobe photography training is dropping to its lowest price ever — but only for the next 24 hours\\t\\t\\t\\n\\n\\n\\nTNW Deals\\n\\n\\n\\n\\n\\n\\n\\n\\n\\n\\n\\n\\n\\n\\n\\n\\t\\t\\t\\tStack Overflow thinks it can make resumes for developers suck less\\t\\t\\t\\n\\n\\n\\nMatthew Hughes\\n\\n\\n\\n\\n\\n\\n\\n\\n\\n\\n\\n\\n\\t\\t\\t\\tKLM launches free in-flight newspaper app\\t\\t\\t\\n\\n\\n\\nMatthew Hughes\\n\\n\\n\\n\\n\\n\\n\\n\\n\\n\\n\\n\\n\\t\\t\\t\\t'Rich Kids' is a $1,000/month social network for attention-craving snobs\\t\\t\\t\\n\\n\\n\\nMix\\n\\n\\n\\n\\n\\n\\n\\n\\n\\n\\n\\n\\n\\t\\t\\t\\tThe UK's new five pound note has a secret musical trick\\t\\t\\t\\n\\n\\n\\nJuan Buis\\n\\n\\n\\n\\n\\n\\n\\n\\n\\n\\n\\n\\n\\t\\t\\t\\tYou can get the Lytro Illum camera at its lowest price ever — but only for the next 24 hours\\t\\t\\t\\n\\n\\n\\nTNW Deals\\n\\n\\n\\n\\n\\n\\n\\n\\n\\n\\n\\n\\n\\t\\t\\t\\tThis dating app is radically changing because it's done with swipe culture\\t\\t\\t\\n\\n\\n\\nJuan Buis\\n\\n\\n\\n\\n\\n\\n\\n\\n\\n\\n\\n\\n\\t\\t\\t\\tRead this if you take your startup seriously\\t\\t\\t\\n\\n\\n\\nDahlia Green\\n\\n\\n\\n\\n\\n\\n\\n\\n\\n\\n\\n\\n\\t\\t\\t\\tWhy I'm convinced that smartphone-only banks like Monzo are the future\\t\\t\\t\\n\\n\\n\\nMatthew Hughes\\n\\n\\n\\n\\n\\n\\n\\n\\n\\n\\n\\n\\n\\t\\t\\t\\tThe Barnacle is the bright, yellow future of wheel clamps\\t\\t\\t\\n\\n\\n\\nJuan Buis\\n\\n\\n\\n\\n\\n\\n\\n\\n\\n\\n\\n\\n\\t\\t\\t\\tOculus wants Samsung's exploding Galaxy Note 7 nowhere near your face\\t\\t\\t\\n\\n\\n\\nMix\\n\\n\\n\\n\\n\\n\\n\\n\\n\\n\\n\\n\\n\\t\\t\\t\\tThis wacky Twitter bot uses AI to make crappy melodies for you\\t\\t\\t\\n\\n\\n\\nMix\\n\\n\\n\\n\\n\\n\\n\\n\\n\\n\\n\\n\\n\\t\\t\\t\\tForget the debate, watch this Trump-Clinton Dirty Dancing duet instead\\t\\t\\t\\n\\n\\n\\nAbhimanyu Ghoshal\\n\\n\\n\\n\\n\\n\\n\\n\\n\\n\\n\\n\\n \\n\\n\\n\\n\\n\\n\\nBill Gates\\nYour most unhappy customers are your greatest source of learning.\\n Share\\n\\n\\n\\n\\n\\n\\n\\n\\n\\n\\n\\n\\n\\n\\nEvents\\nAbout\\nTeam\\nAdvertise\\nJobs\\nContact\\n\\n\\n\\n\\n\\n\\n\\n                            © 2006–2016 The Next Web B.V.\\n                        \\nMade with ♥ in Amsterdam.\\n\\n                            Powered by\\n                            \\n\\n\\n\\n\\n\\n\\n\\n\\nStay tuned\\n\\n\\n\\n\\n                Treat yourself\\n            \\n\\n                Sit back and let the hottest tech news come to you by the magic of electronic mail.\\n            \\n\\n\\nThank\\xa0you!\\n\\n\\n\\n\\n\\n\\n\\n\\nSign up\\n\\n\\n\\n\\n                Prefer to get the news as it happens? Follow us on social media.\\n            \\n\\n\\n\\n\\n\\n1.65M followers\\n                        \\n\\n\\n\\n\\n\\n\\n\\n763K likes\\n                        \\n\\n\\n\\n\\n\\n\\n\\n\\n\\n\\n\\n\\n\\n\\n\\n\\n\\n\\n\\n\\n\\n\\n\\n\\n\\n\\n  \\n \\n\\n\\n\\n\\n\""
      ]
     },
     "execution_count": 139,
     "metadata": {},
     "output_type": "execute_result"
    }
   ],
   "source": [
    "[s.extract() for s in google_soup(['style', 'script', '[document]', 'head', 'title'])]\n",
    "visible_text = google_soup.get_text()\n",
    "visible_text"
   ]
  },
  {
   "cell_type": "code",
   "execution_count": 141,
   "metadata": {
    "collapsed": false
   },
   "outputs": [
    {
     "data": {
      "text/plain": [
       "\"\\n\\n\\n\\n\\nSkip to main content\\n\\n\\n\\n\\n\\n\\n\\n\\nNBA\\n\\n\\nGlobal\\n\\nTeams\\n\\nTeams\\nTeam Sites\\nAtlanta\\nMiami\\nBoston\\nMilwaukee\\nBrooklyn\\nMinnesota\\nCharlotte\\nNew Orleans\\nChicago\\nNew York\\nCleveland\\nOklahoma City\\nDallas\\nOrlando\\nDenver\\nPhiladelphia\\nDetroit\\nPhoenix\\nGolden State\\nPortland\\nHouston\\nSacramento\\nIndiana\\nSan Antonio\\nLA Clippers\\nToronto\\nLA Lakers\\nUtah\\nMemphis\\nWashington\\n\\n\\nD-League\\nWNBA\\nNBA Store\\n\\n\\n\\n\\n\\n\\n\\n\\n\\n\\n\\n\\n\\n\\n\\n\\n\\n New York Knicks\\n\\n\\n\\n\\n\\n\\nPromo Title\\n\\nPresenting Partner of the New York Knicks\\n\\n\\n\\n\\n\\n\\n\\n\\nMenuTeamRosterLeadersTeam StatsPlayer StatsFront OfficeOfficial Mobile AppNBA D-League Affiliate: Westchester KnicksTicketsTicket CentralSubscriber CentralSingle Game Tickets\\n\\nThe Official Fan Marketplace of the Knicks\\n\\n\\n\\nThe Official Fan Marketplace of the Knicks\\n \\n\\n\\nScheduleSchedulePrintable Schedule (.PDF)Add To Calendar\\n\\nMSG Network\\n\\n\\n\\nMSG Network\\n \\n\\n\\nNewsFree Agency and Summer League CentralJBL All-Star Central 2016Articles and FeaturesPhoto GalleriesVideoKnicks All-Access Weekly presented by DiplyTeam OriginalsTop Plays1-on-1 InterviewsCommunity\\n\\nMSG GO\\n\\n\\n\\nMSG GO\\n \\n\\n\\nEntertainmentKnicks City DancersDouglas Elliman Celebrity RowMSG All Access Tour7th Ave Squad AuditionsCommunityKnicks In The CommunityYouth BasketballBball In The BoroughsSweetwater Clifton AwardDave Debusschere AwardHoops For TroopsDream Big Speak OutSeason of GivingGroove TruckStoreJerseysLadiesMenYouthHatsTeam Stores at MSG\\n\\nGet Your Knicks Gear\\n\\n\\n\\nGet Your Knicks Gear\\n \\n\\n\\n \\nSearch Toggle Search Input\\n\\n\\n\\nSearch Box\\n\\n\\n\\n\\n\\n\\n\\n\\nSocial Menu\\n\\n\\n\\nfacebooktwittergoogle-plusinstagrampinterest \\n\\n\\n\\n\\n\\n\\n\\n\\n\\n\\n\\n\\n\\n\\n\\n\\n\\n\\n\\n\\n\\n\\n\\n\\n\\n\\n\\n\\n\\n\\n\\n\\n\\n\\n\\n\\n\\n\\n\\n\\n\\n\\n\\n\\n\\n\\n\\n\\n\\nMembership Plans\\nGroups & Outing Options\\nSingle Game Tickets\\nManage & Renew\\nSeating\\nThe Garden\\n\\n\\n\\n\\n\\n\\n\\n\\n\\n\\nMembership Plans\\nGroups & Outing Options\\nSingle Game Tickets\\nManage & Renew\\nSeating\\nThe Garden\\n\\n\\nContact Us:\\n\\n877.NYK.DUNK\\nRequest Info\\n\\n\\n\\n\\n\\n\\nMembership Plans\\n\\nBe There This Season\\n\\n\\nFull Season\\n44 home games\\nSold Out+\\nSold Out\\n\\n\\nHalf Season\\n20/21 game ticket plans\\nMore+\\nMore\\n\\n\\nMini Plans\\n10 game ticket packages\\nMore+\\nMore\\n\\n\\n\\n\\n\\nGroups & Outing Options\\n\\nEnjoy with your team\\n\\n\\nGroups\\nWhether it's a whole row or an entire section, we've got seats for you.\\nMore+\\nMore\\n\\n\\nLounges\\nA great way to socialize and enjoy the game with your group.\\nMore+\\nMore\\n\\n\\nSuites\\nThe ideal setting to entertain your special guests.\\nMore+\\nMore\\n\\n\\nMadison Club\\nCatch all of The Garden's sporting events with all of the luxury.\\nMore+\\nMore\\n\\n\\n\\n\\n\\nSingle Game Tickets\\n\\nBe a part of the action\\nLooking for a specific game? Join us for Knicks basketball at the World's Most Famous Arena.\\nGetTickets\\n\\n\\nManage & Renew\\n\\nAlready a Season Ticket Member?\\nCan't make a game? Need to sell your ticket? That's why we're here.\\nMore+\\n\\n\\nSeating\\n\\nLooking for seats?Check out the view here.\\nCourtside? Behind the bench? Or on the Chase Bridge?They're all great - and we can help find the best seats for you.\\n\\nView3D Map\\n\\n\\n\\n\\nThe Garden\\n\\nMake Your Game Day Better\\nFind out the best way to get in, what to eat, where to shop, andwhat else is going on at the World's Most Famous Arena.\\nMore+\\n\\n\\n\\n\\nRequest Info\\n\\nTell us about yourself.\\nLet us know the best way to get back to you. Someone will reach out to you shortly to discuss the personalized membership options for this season.\\n\\n\\nPlease fill in a valid value for all required fields\\nAre you sure you want to leave this form and resume later?\\nAre you sure you want to leave this form and resume later? If so, please enter a password below to securely save your form.\\nSave and Resume Later\\nSave and get link\\nYou must upload one of the following file types for the selected field:\\nThere was an error displaying the form. Please copy and paste the embed code again.\\nApply Discount\\nYou saved\\nwith code\\nThere was an error initializing the payment processor on this form. Please contact the form owner to correct this issue.\\nPlease check the field:\\n\\n\\n\\n\\n\\xa0\\n\\n\\xa0\\n\\n\\n\\xa0\\n\\n\\xa0\\n\\n\\n\\xa0\\nName*\\n\\nFirst Name*\\nLast Name*\\n\\n\\n\\n\\xa0\\n\\n\\n\\xa0\\nPreferred Method of Contact*\\nPhoneEmailBoth\\n\\n\\xa0\\n\\n\\n\\xa0\\nContact Phone Number*\\n\\xa0\\n\\n\\n\\xa0\\nEmail Address*\\n\\xa0\\n\\n\\n\\xa0\\nWhich Type of Membership / Seat Are You Interested In*\\nGroup OutingLounges or Suite Rental or LeaseMini MembershipHalf SeasonFull SeasonMadison Club\\n\\n\\xa0\\n\\n\\n\\xa0\\n\\n\\xa0\\n\\n\\n\\xa0\\n\\n\\xa0\\n\\n\\n\\n\\n\\n\\n\\n\\n\\n\\n\\nFull Season Membership\\n\\n2016-17 season memberships are sold out\\nWe are sold out of full season plans, but don't worry — there's other options. 22 and 11 game partial ticket memberships are still available.\\nView Half SeasonView Mini Plans\\nView 2016-17 season schedule\\n\\n\\n2016-17 Schedule\\n\\n\\n\\n\\nOct 08\\nSat\\nBKN\\n7:30PM \\n\\n\\nOct 10\\nMon\\nWAS\\n7:30PM \\n\\n\\nOct 15\\nSat\\nBOS\\n7:30PM \\n\\n\\nOct 29\\nSat\\nMEM\\n7:30PM \\n\\n\\nNov 02\\nWed\\nHOU\\n7:30PM \\n\\n\\nNov 06\\nSun\\nUTA\\n12:00PM \\n\\n\\nNov 09\\nWed\\nBKN\\n7:00PM \\n\\n\\nNov 14\\nMon\\nDAL\\n7:30PM \\n\\n\\nNov 16\\nWed\\nDET\\n7:30PM \\n\\n\\nNov 20\\nSun\\nATL\\n12:00PM \\n\\n\\nNov 22\\nTue\\nPOR\\n7:30PM \\n\\n\\nNov 25\\nFri\\nCHA\\n7:30PM \\n\\n\\nNov 28\\nMon\\nOKC\\n7:30PM \\n\\n\\nDec 02\\nFri\\nMIN\\n7:30PM \\n\\n\\nDec 04\\nSun\\nSAC\\n7:30PM \\n\\n\\nDec 07\\nWed\\nCLE\\n8:00PM \\n\\n\\nDec 20\\nTue\\nIND\\n7:30PM \\n\\n\\nDec 22\\nThu\\nORL\\n7:30PM \\n\\n\\nDec 25\\nSun\\nBOS\\n12:00PM \\n\\n\\nJan 02\\nMon\\nORL\\n7:30PM \\n\\n\\nJan 04\\nWed\\nMIL\\n7:30PM \\n\\n\\nJan 09\\nMon\\nNOP\\n7:30PM \\n\\n\\n\\n\\n\\n\\nJan 12\\nThu\\nCHI\\n8:00PM \\n\\n\\nJan 16\\nMon\\nATL\\n1:00PM \\n\\n\\nJan 19\\nThu\\nWAS\\n8:00PM \\n\\n\\nJan 21\\nSat\\nPHX\\n7:30PM \\n\\n\\nJan 27\\nFri\\nCHA\\n7:30PM \\n\\n\\nFeb 04\\nSat\\nCLE\\n8:30PM \\n\\n\\nFeb 06\\nMon\\nLAL\\n7:00PM \\n\\n\\nFeb 08\\nWed\\nLAC\\n8:00PM \\n\\n\\nFeb 10\\nFri\\nDEN\\n7:30PM \\n\\n\\nFeb 12\\nSun\\nSAS\\n3:30PM \\n\\n\\nFeb 25\\nSat\\nPHI\\n7:30PM \\n\\n\\nFeb 27\\nMon\\nTOR\\n7:00PM \\n\\n\\nMar 05\\nSun\\nGSW\\n3:30PM \\n\\n\\nMar 14\\nTue\\nIND\\n7:30PM \\n\\n\\nMar 16\\nThu\\nBKN\\n7:30PM \\n\\n\\nMar 27\\nMon\\nDET\\n7:30PM \\n\\n\\nMar 29\\nWed\\nMIA\\n7:30PM \\n\\n\\nApr 02\\nSun\\nBOS\\n1:00PM \\n\\n\\nApr 04\\nTue\\nCHI\\n8:00PM \\n\\n\\nApr 06\\nThu\\nWAS\\n7:30PM \\n\\n\\nApr 09\\nSun\\nTOR\\n12:00PM \\n\\n\\nApr 12\\nWed\\nPHI\\n8:00PM \\n\\n\\n\\n\\n\\n\\n\\nContact Us:\\n\\n877.NYK.DUNK\\nRequest Info\\n\\n\\n\\n\\n\\nHalf-Season Memberships\\n\\nCan't make the full season?See the half-plan options.\\nExperience 20/21 games live and receive priority consideration to purchase tickets for the 2017 NBA Playoffs. Half-season memberships are available now — contact us today and ensure your spot this season!\\n\\n\\n\\nBlue\\nBuyNow\\n\\n\\n\\n\\nOct 29\\nSat\\nMEM\\n7:30PM \\n\\n\\nNov 06\\nSun\\nUTA\\n12:00PM \\n\\n\\nNov 14\\nMon\\nDAL\\n7:30PM \\n\\n\\nNov 16\\nWed\\nDET\\n7:30PM \\n\\n\\nNov 25\\nFri\\nCHA\\n7:30PM \\n\\n\\nNov 28\\nMon\\nOKC\\n7:30PM \\n\\n\\nDec 04\\nSun\\nSAC\\n7:30PM \\n\\n\\nDec 25\\nSun\\nBOS\\n12:00PM \\n\\n\\nJan 02\\nMon\\nORL\\n7:30PM \\n\\n\\nJan 12\\nThu\\nCHI\\n8:00PM \\n\\n\\nJan 16\\nMon\\nATL\\n1:00PM \\n\\n\\nJan 19\\nThu\\nWAS\\n8:00PM \\n\\n\\nFeb 04\\nSat\\nCLE\\n8:30PM \\n\\n\\nFeb 08\\nWed\\nLAC\\n8:00PM \\n\\n\\nFeb 10\\nFri\\nDEN\\n7:30PM \\n\\n\\nFeb 12\\nSun\\nSAS\\n3:30PM \\n\\n\\nMar 05\\nSun\\nGSW\\n3:30PM *\\n\\n\\nMar 14\\nTue\\nIND\\n7:30PM \\n\\n\\nMar 16\\nThu\\nBKN\\n7:30PM \\n\\n\\nMar 29\\nWed\\nMIA\\n7:30PM \\n\\n\\nApr 09\\nSun\\nTOR\\n12:00PM \\n\\n\\nApr 12\\nWed\\nPHI\\n8:00PM \\n\\n\\n\\n\\n* Each Blue Seat plan includes the option to purchase one individual ticket to the GSW game on March 5, subject to availability.\\n\\nOrange\\nBuyNow\\n\\n\\n\\n\\nNov 02\\nWed\\nHOU\\n7:30PM \\n\\n\\nNov 09\\nWed\\nBKN\\n7:00PM \\n\\n\\nNov 20\\nSun\\nATL\\n12:00PM \\n\\n\\nNov 22\\nTue\\nPOR\\n7:30PM \\n\\n\\nDec 02\\nFri\\nMIN\\n7:30PM \\n\\n\\nDec 07\\nWed\\nCLE\\n8:00PM \\n\\n\\nDec 20\\nTue\\nIND\\n7:30PM \\n\\n\\nDec 22\\nThu\\nORL\\n7:30PM \\n\\n\\nJan 04\\nWed\\nMIL\\n7:30PM \\n\\n\\nJan 09\\nMon\\nNOP\\n7:30PM \\n\\n\\nJan 21\\nSat\\nPHX\\n7:30PM \\n\\n\\nJan 27\\nFri\\nCHA\\n7:30PM \\n\\n\\nFeb 06\\nMon\\nLAL\\n7:00PM \\n\\n\\nFeb 25\\nSat\\nPHI\\n7:30PM \\n\\n\\nFeb 27\\nMon\\nTOR\\n7:00PM \\n\\n\\nMar 05\\nSun\\nGSW\\n3:30PM \\n\\n\\nMar 27\\nMon\\nDET\\n7:30PM \\n\\n\\nApr 02\\nSun\\nBOS\\n1:00PM \\n\\n\\nApr 04\\nTue\\nCHI\\n8:00PM \\n\\n\\nApr 06\\nThu\\nWAS\\n7:30PM \\n\\n\\n\\n\\n\\n\\n\\n\\nContact Us:\\n\\n877.NYK.DUNK\\nRequest Info\\n\\n\\n\\n\\n\\nFastbreak Mini-Plans\\n\\nPick a package that's right for you\\nExperience 10 games live and receive priority consideration to purchase tickets for the 2017 NBA Playoffs. Mini-plans are available now — contact us today and ensure your spot this season!\\n\\n\\n\\nNBA Elite\\nBuyNow\\n\\n\\n\\n\\nNov 09\\nWed\\nBKN\\n7:00PM \\n\\n\\nDec 07\\nWed\\nCLE\\n8:00PM \\n\\n\\nDec 20\\nTue\\nIND\\n7:30PM \\n\\n\\nJan 09\\nMon\\nNOP\\n7:30PM \\n\\n\\nFeb 06\\nMon\\nLAL\\n7:00PM \\n\\n\\nFeb 27\\nMon\\nTOR\\n7:00PM \\n\\n\\nMar 05\\nSun\\nGSW\\n3:30PM \\n\\n\\nApr 02\\nSun\\nBOS\\n1:00PM \\n\\n\\nApr 04\\nTue\\nCHI\\n8:00PM \\n\\n\\nApr 06\\nThu\\nWAS\\n7:30PM \\n\\n\\n\\n\\n\\n\\nWeekender\\nBuyNow\\n\\n\\n\\n\\nOct 29\\nSat\\nMEM\\n7:30PM \\n\\n\\nNov 06\\nSun\\nUTA\\n12:00PM \\n\\n\\nNov 25\\nFri\\nCHA\\n7:30PM \\n\\n\\nDec 04\\nSun\\nSAC\\n7:30PM \\n\\n\\nDec 25\\nSun\\nBOS\\n12:00PM \\n\\n\\nJan 19\\nThu\\nWAS\\n8:00PM \\n\\n\\nFeb 04\\nSat\\nCLE\\n8:30PM \\n\\n\\nFeb 10\\nFri\\nDEN\\n7:30PM \\n\\n\\nFeb 12\\nSun\\nSAS\\n3:30PM \\n\\n\\nApr 09\\nSun\\nTOR\\n12:00PM \\n\\n\\n\\n\\n\\n\\nWeekday Hoops\\nBuyNow\\n\\n\\n\\n\\n\\nNov 14\\nMon\\nDAL\\n7:30PM \\n\\n\\nNov 16\\nWed\\nDET\\n7:30PM \\n\\n\\nNov 28\\nMon\\nOKC\\n7:30PM \\n\\n\\nJan 02\\nMon\\nORL\\n7:30PM \\n\\n\\nJan 12\\nThu\\nCHI\\n8:00PM \\n\\n\\nJan 16\\nMon\\nATL\\n1:00PM \\n\\n\\nFeb 08\\nWed\\nLAC\\n8:00PM \\n\\n\\nMar 14\\nTue\\nIND\\n7:30PM \\n\\n\\nMar 16\\nThu\\nBKN\\n7:30PM \\n\\n\\nMar 29\\nWed\\nMIA\\n7:30PM \\n\\n\\nApr 12\\nWed\\nPHI\\n8:00PM \\n\\n\\n\\n\\n\\n\\nVariety Pack\\nBuyNow\\n\\n\\n\\n\\nNov 02\\nWed\\nHOU\\n7:30PM \\n\\n\\nNov 20\\nSun\\nATL\\n12:00PM \\n\\n\\nNov 22\\nTue\\nPOR\\n7:30PM \\n\\n\\nDec 02\\nFri\\nMIN\\n7:30PM \\n\\n\\nDec 22\\nThu\\nORL\\n7:30PM \\n\\n\\nJan 04\\nWed\\nMIL\\n7:30PM \\n\\n\\nJan 21\\nSat\\nPHX\\n7:30PM \\n\\n\\nJan 27\\nFri\\nCHA\\n7:30PM \\n\\n\\nFeb 25\\nSat\\nPHI\\n7:30PM \\n\\n\\nMar 27\\nMon\\nDET\\n7:30PM \\n\\n\\n\\n\\n\\n\\n\\n\\nContact Us:\\n\\n877.NYK.DUNK\\nRequest Info\\n\\n\\n\\n\\n\\nGroups\\n\\nShare the excitement of Knicks Basketball\\nGroup tickets are available for class trips, sports teams, entertaining clients, rewarding staff or nights out with your extended family. Starting at 20 tickets, we can find the right place for your group at the World's Most Famous Arena and make your game night even more memorable with unique experiences like on-court performances, playing basketball at The Garden, high fiving our team as they enter the court, and more. Contact us to learn more about our special group offers and fan experience packages.\\n\\n\\n\\nContact Us:\\n\\n212.465.6080\\nRequest Info\\n\\n\\n\\n\\n\\nLounges\\n\\nSocialize with the Knicks in style\\nA premier group seating and hospitality space on the Chase bridge level, The Lounges at Madison Square Garden are perfect for developing business or celebrating a special occasion. This customizable space can accommodate up to 126 people and offers a terrific view of the court with space to hang out with your guests and not miss any of the action. Contact us today to learn more about The Lounges and get your game today.\\n\\n\\n\\nContact Us:\\n\\n212.465.6080\\nRequest Info\\n\\n\\n\\n\\n\\nSuites\\n\\nSee the game with space, style and service.\\nAvailable for single event rental or longer terms, Signature Level Suites provide up to 20 passes, a private hospitality space, chef with catering packages, and an exclusive concierge entrance.\\nTo learn the best way to engage clients, reward top performers, and drive new business, contact our suites team at moc.gsm@setiuskyn.\\n\\n\\n\\nContact Us:\\n\\n877.NYK.DUNK\\nRequest Info\\n\\n\\n\\n\\n\\nMadison Club\\n\\nKnicks, Rangers, College Basketball and More\\nThe most elite sports experience awaits you and your guests in the Madison Club. A unique hospitality space, Madison Club offers guests a private entrance, and a spacious lounge and bar with an upscale chef's table featuring selections from the MSG Signature collection to enjoy each event.\\nMembership includes seats for all Knicks, Rangers, Big East Tournament, College Basketball, Tennis and Boxing events at The Garden with NBA and NHL playoffs at no additional cost. Our Madison Club experience team is dedicated serving you and making the most of your investment.\\nView Madison Club Court View\\n\\n\\n\\nContact Us:\\n\\n877.NYK.DUNK\\nRequest Info\\n\\n\\n\\n\\n\\n\\n \\n\\n\\n\\n\\n\\n\\n\\n\\n\\n\\n\\n\\n\\n\\n\\n\\n\\n\\n\\n\\n\\n\\n\\n\\n\\n\\n\\n\\n\\n\\n\\n\\n\\n\\n\\n\\n\\n\\n\\n\\n\\n\\n\\n\\n\\n\\n\\n\\nTickets\\n\\n\\nTicket Central\\nSuites\\nTicketmaster: Official Fan Marketplace of the New York Knicks\\n\\n\\n\\n\\n\\n\\n\\n\\n\\n\\n\\n\\n\\nTeam\\n\\n\\nSchedule\\nNews\\nVideo\\nPlayers\\nStatistics\\nFront Office\\nKnicks City Dancers\\nD-League Affiliate: Westchester Knicks\\nKnicks Insider\\n\\n\\n\\n\\n\\n\\n\\n\\n\\n\\n\\n\\n\\nCommunity\\n\\nKnicks In The Community\\nYouth Basketball\\nBBall in the Boroughs\\nSweetwater Clifton Award\\nDave DeBusschere Award\\nHoops for Troops\\nDream Big Speak out\\nSeason of Giving\\nGroove Truck\\n \\n\\n\\n\\n\\n\\n\\n\\n\\n\\n\\n\\nStore\\n\\n\\nKnicks Best Sellers\\nKnicks Apparel\\nKnicks Jerseys\\nKnicks Headwear\\nKnicks Sweatshirts\\nKnicks Accessories\\nKnicks Jackets\\nKnicks T-Shirts\\n\\n\\n\\n\\n\\n\\n\\n\\n\\n\\n\\n\\n\\n\\n\\n\\n\\n\\n\\n\\n  Copyright © 2016 NBA Media Ventures, LLC. All rights reserved.\\n  No portion of NBA.com may be duplicated, redistributed or manipulated in any form.\\n  By accessing any information beyond this page, you agree to abide by the\\n  Privacy Policy  /\\n  Your California Privacy Rights  and\\n  Terms of Use  |\\n  Ad Choices\\n\\n\\n\\n\\nAdvertise on NBA.com \\n\\nNBA.com Help \\n\\nFan Relations FAQ \\n\\nNBA Career Opportunities \\n\\n\\n\\n\\n\\nNBA.com is part of Turner Sports Digital, part of the Turner Sports & Entertainment Digital Network.        \\n\\n\\n\\n \\n\\n\\n\\n\\n\\n\\n\\n\\n\\n\\n\\n\""
      ]
     },
     "execution_count": 141,
     "metadata": {},
     "output_type": "execute_result"
    }
   ],
   "source": [
    "[s.extract() for s in bing_soup(['style', 'script', '[document]', 'head', 'title'])]\n",
    "visible_text = bing_soup.get_text()\n",
    "visible_text"
   ]
  },
  {
   "cell_type": "code",
   "execution_count": null,
   "metadata": {
    "collapsed": true
   },
   "outputs": [],
   "source": []
  }
 ],
 "metadata": {
  "anaconda-cloud": {},
  "kernelspec": {
   "display_name": "Python [conda env:double-blind]",
   "language": "python",
   "name": "conda-env-double-blind-py"
  },
  "language_info": {
   "codemirror_mode": {
    "name": "ipython",
    "version": 3
   },
   "file_extension": ".py",
   "mimetype": "text/x-python",
   "name": "python",
   "nbconvert_exporter": "python",
   "pygments_lexer": "ipython3",
   "version": "3.5.2"
  }
 },
 "nbformat": 4,
 "nbformat_minor": 1
}
