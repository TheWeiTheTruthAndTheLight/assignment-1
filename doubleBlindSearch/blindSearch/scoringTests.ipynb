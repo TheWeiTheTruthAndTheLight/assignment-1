{
 "cells": [
  {
   "cell_type": "code",
   "execution_count": 1,
   "metadata": {
    "collapsed": false
   },
   "outputs": [],
   "source": [
    "n = \"n\"\n",
    "mean = \"mean\"\n",
    "points = {\"bing\":{mean:0, n:0},\n",
    "          \"yahoo\":{mean:0, n:0},\n",
    "          \"google\":{mean:0, n:0},\n",
    "          \"test1\":{mean:0, n:0},\n",
    "          \"test5\":{mean:0, n:0},\n",
    "          \"test6\":{mean:0, n:0},\n",
    "          \"test7\":{mean:0, n:0},\n",
    "          \"test8\":{mean:0, n:0},\n",
    "          \"test9\":{mean:0, n:0},\n",
    "          \"testNot\":{mean:0, n:0}}\n",
    "\n",
    "def addPoints(engine, positionInSearch):\n",
    "    if(positionInSearch > 0 and positionInSearch <= 10):\n",
    "        points[engine][mean] = (points[engine][mean]*points[engine][n] + 1/pow(1.15, positionInSearch-1))/(points[engine][n] + 1)\n",
    "    points[engine][n] = points[engine][n] + 1\n",
    "\n",
    "def getPoints(engine):\n",
    "    return points[engine][mean]"
   ]
  },
  {
   "cell_type": "code",
   "execution_count": 2,
   "metadata": {
    "collapsed": false
   },
   "outputs": [],
   "source": [
    "addPoints(\"test1\", 1)\n",
    "addPoints(\"bing\", 2)\n",
    "addPoints(\"yahoo\", 3)\n",
    "addPoints(\"google\", 4)\n",
    "addPoints(\"test5\", 5)\n",
    "addPoints(\"test6\", 6)\n",
    "addPoints(\"test7\", 7)\n",
    "addPoints(\"test8\", 8)\n",
    "addPoints(\"test9\", 9)\n",
    "addPoints(\"testNot\", 0)\n"
   ]
  },
  {
   "cell_type": "code",
   "execution_count": 3,
   "metadata": {
    "collapsed": false
   },
   "outputs": [
    {
     "name": "stdout",
     "output_type": "stream",
     "text": [
      "{'n': 1, 'mean': 1.0}\n",
      "{'n': 1, 'mean': 0.8695652173913044}\n",
      "{'n': 1, 'mean': 0.7561436672967865}\n",
      "{'n': 1, 'mean': 0.6575162324319883}\n",
      "{'n': 1, 'mean': 0.5717532455930334}\n",
      "{'n': 1, 'mean': 0.4971767352982899}\n",
      "{'n': 1, 'mean': 0.43232759591155645}\n",
      "{'n': 1, 'mean': 0.37593703992309263}\n",
      "{'n': 1, 'mean': 0.32690177384616753}\n",
      "{'n': 1, 'mean': 0}\n"
     ]
    }
   ],
   "source": [
    "print(points[\"test1\"])\n",
    "print(points[\"bing\"])\n",
    "print(points[\"yahoo\"])\n",
    "print(points[\"google\"])\n",
    "print(points[\"test5\"])\n",
    "print(points[\"test6\"])\n",
    "print(points[\"test7\"])\n",
    "print(points[\"test8\"])\n",
    "print(points[\"test9\"])\n",
    "print(points[\"testNot\"])"
   ]
  },
  {
   "cell_type": "code",
   "execution_count": 4,
   "metadata": {
    "collapsed": false
   },
   "outputs": [
    {
     "data": {
      "text/plain": [
       "0.6575162324319883"
      ]
     },
     "execution_count": 4,
     "metadata": {},
     "output_type": "execute_result"
    }
   ],
   "source": [
    "getPoints(\"google\")"
   ]
  }
 ],
 "metadata": {
  "anaconda-cloud": {},
  "kernelspec": {
   "display_name": "Python [conda root]",
   "language": "python",
   "name": "conda-root-py"
  },
  "language_info": {
   "codemirror_mode": {
    "name": "ipython",
    "version": 3
   },
   "file_extension": ".py",
   "mimetype": "text/x-python",
   "name": "python",
   "nbconvert_exporter": "python",
   "pygments_lexer": "ipython3",
   "version": "3.5.2"
  }
 },
 "nbformat": 4,
 "nbformat_minor": 1
}
