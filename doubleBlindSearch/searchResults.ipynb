{
 "cells": [
  {
   "cell_type": "code",
   "execution_count": 1,
   "metadata": {
    "collapsed": false
   },
   "outputs": [],
   "source": [
    "import requests\n",
    "import functools\n",
    "import re\n",
    "from itertools import chain\n",
    "from bs4 import BeautifulSoup\n",
    "from urllib.parse import quote_plus"
   ]
  },
  {
   "cell_type": "code",
   "execution_count": 2,
   "metadata": {
    "collapsed": true
   },
   "outputs": [],
   "source": [
    "def get(url, query):\n",
    "    quoted_query = quote_plus(query)\n",
    "    underscored_query = query.replace(' ', '_')\n",
    "    full_url = '{}?q={}'.format(url, quoted_query)\n",
    "    r = requests.get(full_url)\n",
    "    status = r.status_code\n",
    "    if status is 200:\n",
    "        soup = BeautifulSoup(r.text, 'html.parser')\n",
    "        return soup\n",
    "    else:\n",
    "        print('Error code: {}; URL: {}'.format(status, full_url))"
   ]
  },
  {
   "cell_type": "code",
   "execution_count": 3,
   "metadata": {
    "collapsed": true
   },
   "outputs": [],
   "source": [
    "def yahoo(query): return yahooParser(get('https://search.yahoo.com/search;', query))\n",
    "def yahooParser(soup):\n",
    "    matchURLsThatArentYahoosIP = re.compile(\"(?=^http.)(?!^http:\\/\\/98)\")\n",
    "    selectResultsTag           = lambda soup : soup.select(\"ol.searchCenterMiddle\")[0]\n",
    "    removeNewsAndSpecialLinks  = lambda soup : soup.select(\"div.wrapstar\")+soup.select(\"div.algo\")\n",
    "    selectSearchResults        = lambda soup : removeNewsAndSpecialLinks(selectResultsTag(soup))\n",
    "    removeInvalidURLs          = lambda url  : matchURLsThatArentYahoosIP.search(url)\n",
    "    selectLinkTag              = lambda div  : div.find_all('a', href=True)\n",
    "    selectLinkURL              = lambda link : link[\"href\"]\n",
    "    flatmap                    = lambda fun, lst : list(chain.from_iterable(map(fun,lst)))\n",
    "    \n",
    "    return list(filter(removeInvalidURLs,\n",
    "                map(selectLinkURL,\n",
    "                flatmap(selectLinkTag,\n",
    "                        selectSearchResults(soup)))))"
   ]
  },
  {
   "cell_type": "code",
   "execution_count": 4,
   "metadata": {
    "collapsed": false
   },
   "outputs": [],
   "source": [
    "def google(query): return googleParser(get('https://www.google.com/search', query))\n",
    "def googleParser(soup):\n",
    "    matchNonSpecialResults = re.compile('^(?!News for|Images for).*$')\n",
    "    selectResultTags       = lambda soup : soup.select('div#ires div.g h3.r a')\n",
    "    removeSpecialResults   = lambda tags : filter(lambda tag: matchNonSpecialResults.search(tag.text), tags)\n",
    "    selectLinkURL          = lambda link : link['href']\n",
    "    trimURL                = lambda url  : url.strip('/url?q=').split('&')[0]\n",
    "    \n",
    "    return list(map(trimURL,\n",
    "                map(selectLinkURL,\n",
    "                    removeSpecialResults(selectResultTags(soup)))))"
   ]
  },
  {
   "cell_type": "code",
   "execution_count": 5,
   "metadata": {
    "collapsed": false
   },
   "outputs": [],
   "source": [
    "def bing(query): return bingParser(get('http://www.bing.com/search', query))\n",
    "def bingParser(soup): \n",
    "    return [t.h2.a['href'] for t in soup.find_all('li', 'b_algo')]"
   ]
  },
  {
   "cell_type": "code",
   "execution_count": 6,
   "metadata": {
    "collapsed": false
   },
   "outputs": [],
   "source": [
    "def search(query):\n",
    "    return {\n",
    "        'Bing'  : bing(query),\n",
    "        'Google': google(query),\n",
    "        'Yahoo' : yahoo(query),\n",
    "    }"
   ]
  },
  {
   "cell_type": "code",
   "execution_count": 7,
   "metadata": {
    "collapsed": false
   },
   "outputs": [
    {
     "data": {
      "text/plain": [
       "{'Bing': ['http://trumans-nyc.com/',\n",
       "  'https://en.wikipedia.org/wiki/Harry_S._Truman',\n",
       "  'http://www.truman.edu/',\n",
       "  'http://www.nytimes.com/topic/person/harry-s-truman',\n",
       "  'http://www.ccc.edu/colleges/truman/pages/default.aspx',\n",
       "  'https://www.whitehouse.gov/1600/presidents/harrystruman',\n",
       "  'http://www.biography.com/people/harry-s-truman-9511121',\n",
       "  'http://www.imdb.com/title/tt0114738/',\n",
       "  'https://www.truman.gov/',\n",
       "  'http://www.bxtrumanhighschool.com/'],\n",
       " 'Google': ['https://en.wikipedia.org/wiki/Harry_S._Truman',\n",
       "  'https://www.whitehouse.gov/1600/presidents/harrystruman',\n",
       "  'https://www.truman.gov/',\n",
       "  'http://www.trumanlibrary.org/',\n",
       "  'https://www.trumanlibrary.org/hst-bio.htm',\n",
       "  'http://www.history.com/topics/us-presidents/harry-truman',\n",
       "  'http://www.biography.com/people/harry-s-truman-9511121',\n",
       "  'https://www.amazon.com/Truman-David-McCullough/dp/1442387807',\n",
       "  'https://www.trumanlittlewhitehouse.com/key-west/president-truman-biography.htm',\n",
       "  'http://www.pbs.org/wgbh/americanexperience/films/truman/'],\n",
       " 'Yahoo': ['http://www.imdb.com/title/tt3754940/',\n",
       "  'https://search.yahoo.com/search?q=truman&ei=UTF-8&p=Cesc+Gay&fr2=12624',\n",
       "  'https://search.yahoo.com/search?q=truman&ei=UTF-8&p=Tom%C3%A0s+Aragay&fr2=12624',\n",
       "  'https://search.yahoo.com/search?q=truman&ei=UTF-8&p=Cesc+Gay&fr2=12624',\n",
       "  'https://search.yahoo.com/search?q=truman&ei=UTF-8&p=Ricardo+Dar%C3%AD&fr2=12624',\n",
       "  'https://search.yahoo.com/search?q=truman&ei=UTF-8&p=Javier+C%C3%A1mar&fr2=12624',\n",
       "  'https://search.yahoo.com/search?q=truman&ei=UTF-8&p=Dolores+Fonz&fr2=12624',\n",
       "  'https://en.wikipedia.org/wiki/Harry_S._Truman',\n",
       "  'http://www.truman.edu/',\n",
       "  'https://www.whitehouse.gov/1600/presidents/harrystruman',\n",
       "  'http://www.ccc.edu/colleges/truman/pages/default.aspx',\n",
       "  'https://www.truman.gov/',\n",
       "  'https://trumanlibrary.org/hst-bio.htm',\n",
       "  'http://www.biography.com/people/harry-s-truman-9511121',\n",
       "  'https://www.trumanlibrary.org/',\n",
       "  'http://www.imdb.com/title/tt0114738/']}"
      ]
     },
     "execution_count": 7,
     "metadata": {},
     "output_type": "execute_result"
    }
   ],
   "source": [
    "search('truman')"
   ]
  }
 ],
 "metadata": {
  "anaconda-cloud": {},
  "kernelspec": {
   "display_name": "Python 3",
   "language": "python",
   "name": "python3"
  },
  "language_info": {
   "codemirror_mode": {
    "name": "ipython",
    "version": 3
   },
   "file_extension": ".py",
   "mimetype": "text/x-python",
   "name": "python",
   "nbconvert_exporter": "python",
   "pygments_lexer": "ipython3",
   "version": "3.5.1+"
  }
 },
 "nbformat": 4,
 "nbformat_minor": 1
}
